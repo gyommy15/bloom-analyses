{
 "cells": [
  {
   "cell_type": "markdown",
   "metadata": {
    "collapsed": true
   },
   "source": [
    "# Bloom Filtering\n",
    "\n",
    "Here we will describe how to run the bloom filter.  First we'll start off by importing the necessary packages, including a few custom methods in `bloom` to perform the actual filter."
   ]
  },
  {
   "cell_type": "code",
   "execution_count": 1,
   "metadata": {},
   "outputs": [
    {
     "ename": "ModuleNotFoundError",
     "evalue": "No module named 'skbio'",
     "output_type": "error",
     "traceback": [
      "\u001b[1;31m---------------------------------------------------------------------------\u001b[0m",
      "\u001b[1;31mModuleNotFoundError\u001b[0m                       Traceback (most recent call last)",
      "\u001b[1;32m<ipython-input-1-68052961b810>\u001b[0m in \u001b[0;36m<module>\u001b[1;34m\u001b[0m\n\u001b[0;32m      1\u001b[0m \u001b[1;32mimport\u001b[0m \u001b[0mos\u001b[0m\u001b[1;33m\u001b[0m\u001b[1;33m\u001b[0m\u001b[0m\n\u001b[1;32m----> 2\u001b[1;33m \u001b[1;32mimport\u001b[0m \u001b[0mskbio\u001b[0m\u001b[1;33m\u001b[0m\u001b[1;33m\u001b[0m\u001b[0m\n\u001b[0m\u001b[0;32m      3\u001b[0m \u001b[1;32mfrom\u001b[0m \u001b[0mbiom\u001b[0m \u001b[1;32mimport\u001b[0m \u001b[0mTable\u001b[0m\u001b[1;33m,\u001b[0m \u001b[0mload_table\u001b[0m\u001b[1;33m\u001b[0m\u001b[1;33m\u001b[0m\u001b[0m\n\u001b[0;32m      4\u001b[0m \u001b[1;32mfrom\u001b[0m \u001b[0mbiom\u001b[0m\u001b[1;33m.\u001b[0m\u001b[0mutil\u001b[0m \u001b[1;32mimport\u001b[0m \u001b[0mbiom_open\u001b[0m\u001b[1;33m\u001b[0m\u001b[1;33m\u001b[0m\u001b[0m\n\u001b[0;32m      5\u001b[0m \u001b[1;32mfrom\u001b[0m \u001b[0mbloom\u001b[0m \u001b[1;32mimport\u001b[0m \u001b[0mremove_seqs\u001b[0m\u001b[1;33m,\u001b[0m \u001b[0mtrim_seqs\u001b[0m\u001b[1;33m\u001b[0m\u001b[1;33m\u001b[0m\u001b[0m\n",
      "\u001b[1;31mModuleNotFoundError\u001b[0m: No module named 'skbio'"
     ]
    }
   ],
   "source": [
    "import os\n",
    "import skbio\n",
    "from biom import Table, load_table\n",
    "from biom.util import biom_open\n",
    "from bloom import remove_seqs, trim_seqs"
   ]
  },
  {
   "cell_type": "markdown",
   "metadata": {},
   "source": [
    "Now we will define all of the input and output file paths.  All of the raw data and can be found in `data_dir`.\n",
    "The resulting filtered data will be saved to `results_dir`.  The `seqs_file` points to the bloomed sequences that we wish to remove, and the `biom_file` points to the biom table built by deblur.  "
   ]
  },
  {
   "cell_type": "code",
   "execution_count": 3,
   "metadata": {},
   "outputs": [],
   "source": [
    "data_dir = '../data/'\n",
    "results_dir = '../results'\n",
    "seqs_file = '../data/newbloom.all.fna'\n",
    "biom_file = 'erc.qiita-1481.biom'\n",
    "filtered_file = 'filtered.biom'\n",
    "\n",
    "seqs_file = os.path.join(data_dir, seqs_file)\n",
    "biom_file = os.path.join(data_dir, biom_file)\n",
    "filtered_file = os.path.join(results_dir, filtered_file)"
   ]
  },
  {
   "cell_type": "markdown",
   "metadata": {},
   "source": [
    "Now we will read in all of the scikit-bio sequences, in addition to the deblurred biom table.\n",
    "Remember that all of the feature ids in the deblurred table are the actual 16S V4 sequences.\n",
    "So we will be filtering out the rows in this table according to the sequence found in the \n",
    "`30_seqs.fna.gz` file."
   ]
  },
  {
   "cell_type": "code",
   "execution_count": 5,
   "metadata": {},
   "outputs": [],
   "source": [
    "seqs = skbio.read(seqs_file, format='fasta')\n",
    "table = load_table(biom_file)"
   ]
  },
  {
   "cell_type": "markdown",
   "metadata": {},
   "source": [
    "When removing sequences, we need to make sure that all of the sequences are of the same length.\n",
    "So we'll just trim to the shortest sequence found in the biom table."
   ]
  },
  {
   "cell_type": "code",
   "execution_count": 8,
   "metadata": {},
   "outputs": [],
   "source": [
    "length = min(map(len, table.ids(axis='observation')))\n",
    "seqs = trim_seqs(seqs, seqlength=length)"
   ]
  },
  {
   "cell_type": "markdown",
   "metadata": {},
   "source": [
    "Now we'll actually remove these bloom sequences as follows."
   ]
  },
  {
   "cell_type": "code",
   "execution_count": 9,
   "metadata": {
    "collapsed": true
   },
   "outputs": [],
   "source": [
    "outtable = remove_seqs(table, seqs)"
   ]
  },
  {
   "cell_type": "code",
   "execution_count": 10,
   "metadata": {},
   "outputs": [],
   "source": [
    "with biom_open(filtered_file, 'w') as f:\n",
    "    outtable.to_hdf5(f, \"filterbiomseqs\")"
   ]
  },
  {
   "cell_type": "markdown",
   "metadata": {
    "collapsed": true
   },
   "source": [
    "This can be also run as the command `filter_seqs_from_biom.py`, which is also available upon install.  In conclusion, the bloom filtering is relatively straightforward to run."
   ]
  }
 ],
 "metadata": {
  "anaconda-cloud": {},
  "kernelspec": {
   "display_name": "Python 3",
   "language": "python",
   "name": "python3"
  },
  "language_info": {
   "codemirror_mode": {
    "name": "ipython",
    "version": 3
   },
   "file_extension": ".py",
   "mimetype": "text/x-python",
   "name": "python",
   "nbconvert_exporter": "python",
   "pygments_lexer": "ipython3",
   "version": "3.7.1"
  }
 },
 "nbformat": 4,
 "nbformat_minor": 1
}
